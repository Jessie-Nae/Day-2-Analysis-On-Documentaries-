{
 "cells": [
  {
   "cell_type": "markdown",
   "id": "6900bf5b",
   "metadata": {},
   "source": [
    "# Import the required libraries/packages"
   ]
  },
  {
   "cell_type": "code",
   "execution_count": 1,
   "id": "72f2b245",
   "metadata": {},
   "outputs": [],
   "source": [
    "import numpy as np\n",
    "import pandas as pd\n",
    "import matplotlib.pyplot as plt\n",
    "import warnings\n",
    "warnings.filterwarnings('ignore')"
   ]
  },
  {
   "cell_type": "markdown",
   "id": "f050cd23",
   "metadata": {},
   "source": [
    "# Import the dataset"
   ]
  },
  {
   "cell_type": "code",
   "execution_count": 2,
   "id": "a1e725fe",
   "metadata": {},
   "outputs": [
    {
     "data": {
      "text/html": [
       "<div>\n",
       "<style scoped>\n",
       "    .dataframe tbody tr th:only-of-type {\n",
       "        vertical-align: middle;\n",
       "    }\n",
       "\n",
       "    .dataframe tbody tr th {\n",
       "        vertical-align: top;\n",
       "    }\n",
       "\n",
       "    .dataframe thead th {\n",
       "        text-align: right;\n",
       "    }\n",
       "</style>\n",
       "<table border=\"1\" class=\"dataframe\">\n",
       "  <thead>\n",
       "    <tr style=\"text-align: right;\">\n",
       "      <th></th>\n",
       "      <th>Title</th>\n",
       "      <th>Premiere</th>\n",
       "      <th>Runtime</th>\n",
       "      <th>Language</th>\n",
       "    </tr>\n",
       "  </thead>\n",
       "  <tbody>\n",
       "    <tr>\n",
       "      <th>0</th>\n",
       "      <td>Three Songs for Benazir</td>\n",
       "      <td>24-Jan-22</td>\n",
       "      <td>22 min</td>\n",
       "      <td>Pashto</td>\n",
       "    </tr>\n",
       "    <tr>\n",
       "      <th>1</th>\n",
       "      <td>The Tinder Swindler</td>\n",
       "      <td>2-Feb-22</td>\n",
       "      <td>1 h 54 min</td>\n",
       "      <td>English</td>\n",
       "    </tr>\n",
       "    <tr>\n",
       "      <th>2</th>\n",
       "      <td>Downfall: The Case Against Boeing</td>\n",
       "      <td>18-Feb-22</td>\n",
       "      <td>1 h 29 min</td>\n",
       "      <td>English</td>\n",
       "    </tr>\n",
       "    <tr>\n",
       "      <th>3</th>\n",
       "      <td>11M: Terror in Madrid</td>\n",
       "      <td>23-Feb-22</td>\n",
       "      <td>1 h 32 min</td>\n",
       "      <td>Spanish</td>\n",
       "    </tr>\n",
       "    <tr>\n",
       "      <th>4</th>\n",
       "      <td>Surviving Paradise: A Family Tale</td>\n",
       "      <td>3-Mar-22</td>\n",
       "      <td>1 h 19 min</td>\n",
       "      <td>English</td>\n",
       "    </tr>\n",
       "  </tbody>\n",
       "</table>\n",
       "</div>"
      ],
      "text/plain": [
       "                               Title   Premiere     Runtime Language\n",
       "0            Three Songs for Benazir  24-Jan-22      22 min   Pashto\n",
       "1                The Tinder Swindler   2-Feb-22  1 h 54 min  English\n",
       "2  Downfall: The Case Against Boeing  18-Feb-22  1 h 29 min  English\n",
       "3              11M: Terror in Madrid  23-Feb-22  1 h 32 min  Spanish\n",
       "4  Surviving Paradise: A Family Tale   3-Mar-22  1 h 19 min  English"
      ]
     },
     "execution_count": 2,
     "metadata": {},
     "output_type": "execute_result"
    }
   ],
   "source": [
    "data = pd.read_csv('Documentaries.csv')\n",
    "data.head()"
   ]
  },
  {
   "cell_type": "code",
   "execution_count": 3,
   "id": "dc65ba02",
   "metadata": {},
   "outputs": [
    {
     "data": {
      "text/html": [
       "<div>\n",
       "<style scoped>\n",
       "    .dataframe tbody tr th:only-of-type {\n",
       "        vertical-align: middle;\n",
       "    }\n",
       "\n",
       "    .dataframe tbody tr th {\n",
       "        vertical-align: top;\n",
       "    }\n",
       "\n",
       "    .dataframe thead th {\n",
       "        text-align: right;\n",
       "    }\n",
       "</style>\n",
       "<table border=\"1\" class=\"dataframe\">\n",
       "  <thead>\n",
       "    <tr style=\"text-align: right;\">\n",
       "      <th></th>\n",
       "      <th>Title</th>\n",
       "      <th>Premiere</th>\n",
       "      <th>Runtime</th>\n",
       "      <th>Language</th>\n",
       "    </tr>\n",
       "  </thead>\n",
       "  <tbody>\n",
       "  </tbody>\n",
       "</table>\n",
       "</div>"
      ],
      "text/plain": [
       "Empty DataFrame\n",
       "Columns: [Title, Premiere, Runtime, Language]\n",
       "Index: []"
      ]
     },
     "execution_count": 3,
     "metadata": {},
     "output_type": "execute_result"
    }
   ],
   "source": [
    "#checking for duplicates\n",
    "data[data.duplicated()]"
   ]
  },
  {
   "cell_type": "code",
   "execution_count": 4,
   "id": "870aa6d2",
   "metadata": {},
   "outputs": [
    {
     "data": {
      "text/plain": [
       "Title       0\n",
       "Premiere    0\n",
       "Runtime     0\n",
       "Language    0\n",
       "dtype: int64"
      ]
     },
     "execution_count": 4,
     "metadata": {},
     "output_type": "execute_result"
    }
   ],
   "source": [
    "#checking for null values in each column\n",
    "data.isnull().sum()"
   ]
  },
  {
   "cell_type": "code",
   "execution_count": 5,
   "id": "31eda479",
   "metadata": {},
   "outputs": [
    {
     "name": "stdout",
     "output_type": "stream",
     "text": [
      "<class 'pandas.core.frame.DataFrame'>\n",
      "RangeIndex: 59 entries, 0 to 58\n",
      "Data columns (total 4 columns):\n",
      " #   Column    Non-Null Count  Dtype \n",
      "---  ------    --------------  ----- \n",
      " 0   Title     59 non-null     object\n",
      " 1   Premiere  59 non-null     object\n",
      " 2   Runtime   59 non-null     object\n",
      " 3   Language  59 non-null     object\n",
      "dtypes: object(4)\n",
      "memory usage: 2.0+ KB\n"
     ]
    }
   ],
   "source": [
    "#checking the datatypes of each column\n",
    "data.info()"
   ]
  },
  {
   "cell_type": "markdown",
   "id": "d7b705cc",
   "metadata": {},
   "source": [
    "# Converting the 'Premiere' column to a datetime"
   ]
  },
  {
   "cell_type": "code",
   "execution_count": 6,
   "id": "358db1a4",
   "metadata": {},
   "outputs": [],
   "source": [
    "data['Premiere'] = pd.to_datetime(data['Premiere'])"
   ]
  },
  {
   "cell_type": "code",
   "execution_count": 10,
   "id": "07f3b923",
   "metadata": {},
   "outputs": [
    {
     "data": {
      "text/plain": [
       "array([2022], dtype=int64)"
      ]
     },
     "execution_count": 10,
     "metadata": {},
     "output_type": "execute_result"
    }
   ],
   "source": [
    " data['Premiere'].dt.year.unique()"
   ]
  },
  {
   "cell_type": "code",
   "execution_count": 11,
   "id": "de3bbc52",
   "metadata": {},
   "outputs": [],
   "source": [
    "data['Premiere Month'] = data['Premiere'].dt.month"
   ]
  },
  {
   "cell_type": "code",
   "execution_count": 12,
   "id": "0a6a32f8",
   "metadata": {},
   "outputs": [],
   "source": [
    "data['Premiere date'] =  data['Premiere'].dt.month"
   ]
  },
  {
   "cell_type": "code",
   "execution_count": 13,
   "id": "8e7f8baf",
   "metadata": {},
   "outputs": [],
   "source": [
    "data.sort_values(by ='Premiere Month',inplace = True)"
   ]
  },
  {
   "cell_type": "code",
   "execution_count": 14,
   "id": "5857ab08",
   "metadata": {},
   "outputs": [],
   "source": [
    "month = {1:'January',\n",
    "        2:'February ',\n",
    "        3:'March',\n",
    "        4:'April',\n",
    "        5:'May',\n",
    "        6:'June',\n",
    "        7:'July',\n",
    "        8:'August',\n",
    "        9:'September',\n",
    "        10:'October',\n",
    "        11:'November',\n",
    "        12:'December',}"
   ]
  },
  {
   "cell_type": "code",
   "execution_count": 15,
   "id": "7466f984",
   "metadata": {},
   "outputs": [],
   "source": [
    "data['Premiere Month'] = data['Premiere Month'].map(month)"
   ]
  },
  {
   "cell_type": "code",
   "execution_count": 17,
   "id": "808075ad",
   "metadata": {
    "scrolled": false
   },
   "outputs": [
    {
     "data": {
      "text/html": [
       "<div>\n",
       "<style scoped>\n",
       "    .dataframe tbody tr th:only-of-type {\n",
       "        vertical-align: middle;\n",
       "    }\n",
       "\n",
       "    .dataframe tbody tr th {\n",
       "        vertical-align: top;\n",
       "    }\n",
       "\n",
       "    .dataframe thead th {\n",
       "        text-align: right;\n",
       "    }\n",
       "</style>\n",
       "<table border=\"1\" class=\"dataframe\">\n",
       "  <thead>\n",
       "    <tr style=\"text-align: right;\">\n",
       "      <th></th>\n",
       "      <th>Title</th>\n",
       "      <th>Premiere</th>\n",
       "      <th>Runtime</th>\n",
       "      <th>Language</th>\n",
       "      <th>Premiere Month</th>\n",
       "      <th>Premiere date</th>\n",
       "    </tr>\n",
       "  </thead>\n",
       "  <tbody>\n",
       "    <tr>\n",
       "      <th>0</th>\n",
       "      <td>Three Songs for Benazir</td>\n",
       "      <td>2022-01-24</td>\n",
       "      <td>22 min</td>\n",
       "      <td>Pashto</td>\n",
       "      <td>January</td>\n",
       "      <td>1</td>\n",
       "    </tr>\n",
       "    <tr>\n",
       "      <th>1</th>\n",
       "      <td>The Tinder Swindler</td>\n",
       "      <td>2022-02-02</td>\n",
       "      <td>1 h 54 min</td>\n",
       "      <td>English</td>\n",
       "      <td>February</td>\n",
       "      <td>2</td>\n",
       "    </tr>\n",
       "    <tr>\n",
       "      <th>2</th>\n",
       "      <td>Downfall: The Case Against Boeing</td>\n",
       "      <td>2022-02-18</td>\n",
       "      <td>1 h 29 min</td>\n",
       "      <td>English</td>\n",
       "      <td>February</td>\n",
       "      <td>2</td>\n",
       "    </tr>\n",
       "    <tr>\n",
       "      <th>3</th>\n",
       "      <td>11M: Terror in Madrid</td>\n",
       "      <td>2022-02-23</td>\n",
       "      <td>1 h 32 min</td>\n",
       "      <td>Spanish</td>\n",
       "      <td>February</td>\n",
       "      <td>2</td>\n",
       "    </tr>\n",
       "    <tr>\n",
       "      <th>4</th>\n",
       "      <td>Surviving Paradise: A Family Tale</td>\n",
       "      <td>2022-03-03</td>\n",
       "      <td>1 h 19 min</td>\n",
       "      <td>English</td>\n",
       "      <td>March</td>\n",
       "      <td>3</td>\n",
       "    </tr>\n",
       "  </tbody>\n",
       "</table>\n",
       "</div>"
      ],
      "text/plain": [
       "                               Title   Premiere     Runtime Language  \\\n",
       "0            Three Songs for Benazir 2022-01-24      22 min   Pashto   \n",
       "1                The Tinder Swindler 2022-02-02  1 h 54 min  English   \n",
       "2  Downfall: The Case Against Boeing 2022-02-18  1 h 29 min  English   \n",
       "3              11M: Terror in Madrid 2022-02-23  1 h 32 min  Spanish   \n",
       "4  Surviving Paradise: A Family Tale 2022-03-03  1 h 19 min  English   \n",
       "\n",
       "  Premiere Month  Premiere date  \n",
       "0        January              1  \n",
       "1      February               2  \n",
       "2      February               2  \n",
       "3      February               2  \n",
       "4          March              3  "
      ]
     },
     "execution_count": 17,
     "metadata": {},
     "output_type": "execute_result"
    }
   ],
   "source": [
    "data.head()"
   ]
  },
  {
   "cell_type": "markdown",
   "id": "7acc81ba",
   "metadata": {},
   "source": [
    "# Create a new column 'Runtime in Mins'"
   ]
  },
  {
   "cell_type": "code",
   "execution_count": 18,
   "id": "d6cf229e",
   "metadata": {},
   "outputs": [],
   "source": [
    "\n",
    "#create a function that calculates the total mins in each element\n",
    "def minutes(runtime):\n",
    "#split each element\n",
    "    split = runtime.split(' ')\n",
    "    total_mins = 0\n",
    "    \n",
    "    for dp in range(0,len(split),2):\n",
    "        if split[dp + 1] == 'h':\n",
    "            total_mins += int(split[dp])* 60\n",
    "        elif split[dp + 1] == 'min':\n",
    "            total_mins += int(split[dp])\n",
    "    return total_mins\n",
    "    "
   ]
  },
  {
   "cell_type": "code",
   "execution_count": 19,
   "id": "be6b8781",
   "metadata": {},
   "outputs": [],
   "source": [
    "#applying the function to a column in a dataframe\n",
    "data['Runtime(mins)'] = data['Runtime'].apply(minutes)"
   ]
  },
  {
   "cell_type": "code",
   "execution_count": 20,
   "id": "b1930d95",
   "metadata": {},
   "outputs": [
    {
     "data": {
      "text/html": [
       "<div>\n",
       "<style scoped>\n",
       "    .dataframe tbody tr th:only-of-type {\n",
       "        vertical-align: middle;\n",
       "    }\n",
       "\n",
       "    .dataframe tbody tr th {\n",
       "        vertical-align: top;\n",
       "    }\n",
       "\n",
       "    .dataframe thead th {\n",
       "        text-align: right;\n",
       "    }\n",
       "</style>\n",
       "<table border=\"1\" class=\"dataframe\">\n",
       "  <thead>\n",
       "    <tr style=\"text-align: right;\">\n",
       "      <th></th>\n",
       "      <th>Title</th>\n",
       "      <th>Premiere</th>\n",
       "      <th>Runtime</th>\n",
       "      <th>Language</th>\n",
       "      <th>Premiere Month</th>\n",
       "      <th>Premiere date</th>\n",
       "      <th>Runtime(mins)</th>\n",
       "    </tr>\n",
       "  </thead>\n",
       "  <tbody>\n",
       "    <tr>\n",
       "      <th>0</th>\n",
       "      <td>Three Songs for Benazir</td>\n",
       "      <td>2022-01-24</td>\n",
       "      <td>22 min</td>\n",
       "      <td>Pashto</td>\n",
       "      <td>January</td>\n",
       "      <td>1</td>\n",
       "      <td>22</td>\n",
       "    </tr>\n",
       "    <tr>\n",
       "      <th>1</th>\n",
       "      <td>The Tinder Swindler</td>\n",
       "      <td>2022-02-02</td>\n",
       "      <td>1 h 54 min</td>\n",
       "      <td>English</td>\n",
       "      <td>February</td>\n",
       "      <td>2</td>\n",
       "      <td>114</td>\n",
       "    </tr>\n",
       "    <tr>\n",
       "      <th>2</th>\n",
       "      <td>Downfall: The Case Against Boeing</td>\n",
       "      <td>2022-02-18</td>\n",
       "      <td>1 h 29 min</td>\n",
       "      <td>English</td>\n",
       "      <td>February</td>\n",
       "      <td>2</td>\n",
       "      <td>89</td>\n",
       "    </tr>\n",
       "    <tr>\n",
       "      <th>3</th>\n",
       "      <td>11M: Terror in Madrid</td>\n",
       "      <td>2022-02-23</td>\n",
       "      <td>1 h 32 min</td>\n",
       "      <td>Spanish</td>\n",
       "      <td>February</td>\n",
       "      <td>2</td>\n",
       "      <td>92</td>\n",
       "    </tr>\n",
       "    <tr>\n",
       "      <th>4</th>\n",
       "      <td>Surviving Paradise: A Family Tale</td>\n",
       "      <td>2022-03-03</td>\n",
       "      <td>1 h 19 min</td>\n",
       "      <td>English</td>\n",
       "      <td>March</td>\n",
       "      <td>3</td>\n",
       "      <td>79</td>\n",
       "    </tr>\n",
       "  </tbody>\n",
       "</table>\n",
       "</div>"
      ],
      "text/plain": [
       "                               Title   Premiere     Runtime Language  \\\n",
       "0            Three Songs for Benazir 2022-01-24      22 min   Pashto   \n",
       "1                The Tinder Swindler 2022-02-02  1 h 54 min  English   \n",
       "2  Downfall: The Case Against Boeing 2022-02-18  1 h 29 min  English   \n",
       "3              11M: Terror in Madrid 2022-02-23  1 h 32 min  Spanish   \n",
       "4  Surviving Paradise: A Family Tale 2022-03-03  1 h 19 min  English   \n",
       "\n",
       "  Premiere Month  Premiere date  Runtime(mins)  \n",
       "0        January              1             22  \n",
       "1      February               2            114  \n",
       "2      February               2             89  \n",
       "3      February               2             92  \n",
       "4          March              3             79  "
      ]
     },
     "execution_count": 20,
     "metadata": {},
     "output_type": "execute_result"
    }
   ],
   "source": [
    "data.head()"
   ]
  },
  {
   "cell_type": "code",
   "execution_count": 21,
   "id": "91991476",
   "metadata": {},
   "outputs": [
    {
     "name": "stdout",
     "output_type": "stream",
     "text": [
      "<class 'pandas.core.frame.DataFrame'>\n",
      "Int64Index: 59 entries, 0 to 58\n",
      "Data columns (total 7 columns):\n",
      " #   Column          Non-Null Count  Dtype         \n",
      "---  ------          --------------  -----         \n",
      " 0   Title           59 non-null     object        \n",
      " 1   Premiere        59 non-null     datetime64[ns]\n",
      " 2   Runtime         59 non-null     object        \n",
      " 3   Language        59 non-null     object        \n",
      " 4   Premiere Month  59 non-null     object        \n",
      " 5   Premiere date   59 non-null     int64         \n",
      " 6   Runtime(mins)   59 non-null     int64         \n",
      "dtypes: datetime64[ns](1), int64(2), object(4)\n",
      "memory usage: 3.7+ KB\n"
     ]
    }
   ],
   "source": [
    "data.info()"
   ]
  },
  {
   "cell_type": "code",
   "execution_count": 22,
   "id": "ae8b7da6",
   "metadata": {},
   "outputs": [],
   "source": [
    "#Sorting the data in a descending order(from the highest mins to the lowest) #OPTIONAL\n",
    "# data.sort_values(by ='Runtime(mins)', ascending = False, inplace = True)"
   ]
  },
  {
   "cell_type": "code",
   "execution_count": 23,
   "id": "1c383414",
   "metadata": {},
   "outputs": [
    {
     "data": {
      "text/html": [
       "<div>\n",
       "<style scoped>\n",
       "    .dataframe tbody tr th:only-of-type {\n",
       "        vertical-align: middle;\n",
       "    }\n",
       "\n",
       "    .dataframe tbody tr th {\n",
       "        vertical-align: top;\n",
       "    }\n",
       "\n",
       "    .dataframe thead th {\n",
       "        text-align: right;\n",
       "    }\n",
       "</style>\n",
       "<table border=\"1\" class=\"dataframe\">\n",
       "  <thead>\n",
       "    <tr style=\"text-align: right;\">\n",
       "      <th></th>\n",
       "      <th>Title</th>\n",
       "      <th>Premiere</th>\n",
       "      <th>Runtime</th>\n",
       "      <th>Language</th>\n",
       "      <th>Premiere Month</th>\n",
       "      <th>Premiere date</th>\n",
       "      <th>Runtime(mins)</th>\n",
       "    </tr>\n",
       "  </thead>\n",
       "  <tbody>\n",
       "    <tr>\n",
       "      <th>0</th>\n",
       "      <td>Three Songs for Benazir</td>\n",
       "      <td>2022-01-24</td>\n",
       "      <td>22 min</td>\n",
       "      <td>Pashto</td>\n",
       "      <td>January</td>\n",
       "      <td>1</td>\n",
       "      <td>22</td>\n",
       "    </tr>\n",
       "    <tr>\n",
       "      <th>1</th>\n",
       "      <td>The Tinder Swindler</td>\n",
       "      <td>2022-02-02</td>\n",
       "      <td>1 h 54 min</td>\n",
       "      <td>English</td>\n",
       "      <td>February</td>\n",
       "      <td>2</td>\n",
       "      <td>114</td>\n",
       "    </tr>\n",
       "    <tr>\n",
       "      <th>2</th>\n",
       "      <td>Downfall: The Case Against Boeing</td>\n",
       "      <td>2022-02-18</td>\n",
       "      <td>1 h 29 min</td>\n",
       "      <td>English</td>\n",
       "      <td>February</td>\n",
       "      <td>2</td>\n",
       "      <td>89</td>\n",
       "    </tr>\n",
       "    <tr>\n",
       "      <th>3</th>\n",
       "      <td>11M: Terror in Madrid</td>\n",
       "      <td>2022-02-23</td>\n",
       "      <td>1 h 32 min</td>\n",
       "      <td>Spanish</td>\n",
       "      <td>February</td>\n",
       "      <td>2</td>\n",
       "      <td>92</td>\n",
       "    </tr>\n",
       "    <tr>\n",
       "      <th>4</th>\n",
       "      <td>Surviving Paradise: A Family Tale</td>\n",
       "      <td>2022-03-03</td>\n",
       "      <td>1 h 19 min</td>\n",
       "      <td>English</td>\n",
       "      <td>March</td>\n",
       "      <td>3</td>\n",
       "      <td>79</td>\n",
       "    </tr>\n",
       "  </tbody>\n",
       "</table>\n",
       "</div>"
      ],
      "text/plain": [
       "                               Title   Premiere     Runtime Language  \\\n",
       "0            Three Songs for Benazir 2022-01-24      22 min   Pashto   \n",
       "1                The Tinder Swindler 2022-02-02  1 h 54 min  English   \n",
       "2  Downfall: The Case Against Boeing 2022-02-18  1 h 29 min  English   \n",
       "3              11M: Terror in Madrid 2022-02-23  1 h 32 min  Spanish   \n",
       "4  Surviving Paradise: A Family Tale 2022-03-03  1 h 19 min  English   \n",
       "\n",
       "  Premiere Month  Premiere date  Runtime(mins)  \n",
       "0        January              1             22  \n",
       "1      February               2            114  \n",
       "2      February               2             89  \n",
       "3      February               2             92  \n",
       "4          March              3             79  "
      ]
     },
     "execution_count": 23,
     "metadata": {},
     "output_type": "execute_result"
    }
   ],
   "source": [
    "data.head()"
   ]
  },
  {
   "cell_type": "code",
   "execution_count": 24,
   "id": "9447afcd",
   "metadata": {},
   "outputs": [],
   "source": [
    "data.set_index('Premiere',inplace = True)"
   ]
  },
  {
   "cell_type": "code",
   "execution_count": 25,
   "id": "e93e42d9",
   "metadata": {},
   "outputs": [
    {
     "data": {
      "text/html": [
       "<div>\n",
       "<style scoped>\n",
       "    .dataframe tbody tr th:only-of-type {\n",
       "        vertical-align: middle;\n",
       "    }\n",
       "\n",
       "    .dataframe tbody tr th {\n",
       "        vertical-align: top;\n",
       "    }\n",
       "\n",
       "    .dataframe thead th {\n",
       "        text-align: right;\n",
       "    }\n",
       "</style>\n",
       "<table border=\"1\" class=\"dataframe\">\n",
       "  <thead>\n",
       "    <tr style=\"text-align: right;\">\n",
       "      <th></th>\n",
       "      <th>Title</th>\n",
       "      <th>Runtime</th>\n",
       "      <th>Language</th>\n",
       "      <th>Premiere Month</th>\n",
       "      <th>Premiere date</th>\n",
       "      <th>Runtime(mins)</th>\n",
       "    </tr>\n",
       "    <tr>\n",
       "      <th>Premiere</th>\n",
       "      <th></th>\n",
       "      <th></th>\n",
       "      <th></th>\n",
       "      <th></th>\n",
       "      <th></th>\n",
       "      <th></th>\n",
       "    </tr>\n",
       "  </thead>\n",
       "  <tbody>\n",
       "    <tr>\n",
       "      <th>2022-01-24</th>\n",
       "      <td>Three Songs for Benazir</td>\n",
       "      <td>22 min</td>\n",
       "      <td>Pashto</td>\n",
       "      <td>January</td>\n",
       "      <td>1</td>\n",
       "      <td>22</td>\n",
       "    </tr>\n",
       "    <tr>\n",
       "      <th>2022-02-02</th>\n",
       "      <td>The Tinder Swindler</td>\n",
       "      <td>1 h 54 min</td>\n",
       "      <td>English</td>\n",
       "      <td>February</td>\n",
       "      <td>2</td>\n",
       "      <td>114</td>\n",
       "    </tr>\n",
       "    <tr>\n",
       "      <th>2022-02-18</th>\n",
       "      <td>Downfall: The Case Against Boeing</td>\n",
       "      <td>1 h 29 min</td>\n",
       "      <td>English</td>\n",
       "      <td>February</td>\n",
       "      <td>2</td>\n",
       "      <td>89</td>\n",
       "    </tr>\n",
       "    <tr>\n",
       "      <th>2022-02-23</th>\n",
       "      <td>11M: Terror in Madrid</td>\n",
       "      <td>1 h 32 min</td>\n",
       "      <td>Spanish</td>\n",
       "      <td>February</td>\n",
       "      <td>2</td>\n",
       "      <td>92</td>\n",
       "    </tr>\n",
       "    <tr>\n",
       "      <th>2022-03-03</th>\n",
       "      <td>Surviving Paradise: A Family Tale</td>\n",
       "      <td>1 h 19 min</td>\n",
       "      <td>English</td>\n",
       "      <td>March</td>\n",
       "      <td>3</td>\n",
       "      <td>79</td>\n",
       "    </tr>\n",
       "  </tbody>\n",
       "</table>\n",
       "</div>"
      ],
      "text/plain": [
       "                                        Title     Runtime Language  \\\n",
       "Premiere                                                             \n",
       "2022-01-24            Three Songs for Benazir      22 min   Pashto   \n",
       "2022-02-02                The Tinder Swindler  1 h 54 min  English   \n",
       "2022-02-18  Downfall: The Case Against Boeing  1 h 29 min  English   \n",
       "2022-02-23              11M: Terror in Madrid  1 h 32 min  Spanish   \n",
       "2022-03-03  Surviving Paradise: A Family Tale  1 h 19 min  English   \n",
       "\n",
       "           Premiere Month  Premiere date  Runtime(mins)  \n",
       "Premiere                                                 \n",
       "2022-01-24        January              1             22  \n",
       "2022-02-02      February               2            114  \n",
       "2022-02-18      February               2             89  \n",
       "2022-02-23      February               2             92  \n",
       "2022-03-03          March              3             79  "
      ]
     },
     "execution_count": 25,
     "metadata": {},
     "output_type": "execute_result"
    }
   ],
   "source": [
    "data.head()"
   ]
  },
  {
   "cell_type": "code",
   "execution_count": null,
   "id": "a1cbeae3",
   "metadata": {},
   "outputs": [],
   "source": []
  },
  {
   "cell_type": "markdown",
   "id": "68f8012a",
   "metadata": {},
   "source": [
    "# Analytical Questions\n",
    "## Descriptive Statistics"
   ]
  },
  {
   "cell_type": "markdown",
   "id": "f8187114",
   "metadata": {},
   "source": [
    "### What is the average runtime of documentaries in the dataset?"
   ]
  },
  {
   "cell_type": "code",
   "execution_count": 26,
   "id": "7cdcc968",
   "metadata": {},
   "outputs": [
    {
     "data": {
      "text/plain": [
       "88.55932203389831"
      ]
     },
     "execution_count": 26,
     "metadata": {},
     "output_type": "execute_result"
    }
   ],
   "source": [
    "#calculating the mean\n",
    "avg_mins = data['Runtime(mins)'].mean()\n",
    "avg_mins"
   ]
  },
  {
   "cell_type": "code",
   "execution_count": 27,
   "id": "76d843f0",
   "metadata": {},
   "outputs": [],
   "source": [
    "#create a function that calculates the hrs and mins.\n",
    "def mean_time():\n",
    "    hr = int((avg_mins - (avg_mins %60))/60)\n",
    "    mins = int(avg_mins % 60)\n",
    "    \n",
    "    print (f\"The average runtime of the documentaries is :{hr}hr {mins}mins\")"
   ]
  },
  {
   "cell_type": "code",
   "execution_count": 28,
   "id": "d60e0622",
   "metadata": {},
   "outputs": [
    {
     "name": "stdout",
     "output_type": "stream",
     "text": [
      "The average runtime of the documentaries is :1hr 28mins\n"
     ]
    }
   ],
   "source": [
    "mean_time()\n",
    "# Answer = The average runtime of the documentaries is :1hr 28mins"
   ]
  },
  {
   "cell_type": "markdown",
   "id": "9a3f7daf",
   "metadata": {},
   "source": [
    "### What is the most common language used in documentaries?"
   ]
  },
  {
   "cell_type": "code",
   "execution_count": 29,
   "id": "4166a0b0",
   "metadata": {},
   "outputs": [
    {
     "data": {
      "text/html": [
       "<div>\n",
       "<style scoped>\n",
       "    .dataframe tbody tr th:only-of-type {\n",
       "        vertical-align: middle;\n",
       "    }\n",
       "\n",
       "    .dataframe tbody tr th {\n",
       "        vertical-align: top;\n",
       "    }\n",
       "\n",
       "    .dataframe thead th {\n",
       "        text-align: right;\n",
       "    }\n",
       "</style>\n",
       "<table border=\"1\" class=\"dataframe\">\n",
       "  <thead>\n",
       "    <tr style=\"text-align: right;\">\n",
       "      <th></th>\n",
       "      <th>Title</th>\n",
       "      <th>Runtime</th>\n",
       "      <th>Language</th>\n",
       "      <th>Premiere Month</th>\n",
       "      <th>Premiere date</th>\n",
       "      <th>Runtime(mins)</th>\n",
       "    </tr>\n",
       "    <tr>\n",
       "      <th>Premiere</th>\n",
       "      <th></th>\n",
       "      <th></th>\n",
       "      <th></th>\n",
       "      <th></th>\n",
       "      <th></th>\n",
       "      <th></th>\n",
       "    </tr>\n",
       "  </thead>\n",
       "  <tbody>\n",
       "    <tr>\n",
       "      <th>2022-01-24</th>\n",
       "      <td>Three Songs for Benazir</td>\n",
       "      <td>22 min</td>\n",
       "      <td>Pashto</td>\n",
       "      <td>January</td>\n",
       "      <td>1</td>\n",
       "      <td>22</td>\n",
       "    </tr>\n",
       "    <tr>\n",
       "      <th>2022-02-02</th>\n",
       "      <td>The Tinder Swindler</td>\n",
       "      <td>1 h 54 min</td>\n",
       "      <td>English</td>\n",
       "      <td>February</td>\n",
       "      <td>2</td>\n",
       "      <td>114</td>\n",
       "    </tr>\n",
       "    <tr>\n",
       "      <th>2022-02-18</th>\n",
       "      <td>Downfall: The Case Against Boeing</td>\n",
       "      <td>1 h 29 min</td>\n",
       "      <td>English</td>\n",
       "      <td>February</td>\n",
       "      <td>2</td>\n",
       "      <td>89</td>\n",
       "    </tr>\n",
       "    <tr>\n",
       "      <th>2022-02-23</th>\n",
       "      <td>11M: Terror in Madrid</td>\n",
       "      <td>1 h 32 min</td>\n",
       "      <td>Spanish</td>\n",
       "      <td>February</td>\n",
       "      <td>2</td>\n",
       "      <td>92</td>\n",
       "    </tr>\n",
       "    <tr>\n",
       "      <th>2022-03-03</th>\n",
       "      <td>Surviving Paradise: A Family Tale</td>\n",
       "      <td>1 h 19 min</td>\n",
       "      <td>English</td>\n",
       "      <td>March</td>\n",
       "      <td>3</td>\n",
       "      <td>79</td>\n",
       "    </tr>\n",
       "  </tbody>\n",
       "</table>\n",
       "</div>"
      ],
      "text/plain": [
       "                                        Title     Runtime Language  \\\n",
       "Premiere                                                             \n",
       "2022-01-24            Three Songs for Benazir      22 min   Pashto   \n",
       "2022-02-02                The Tinder Swindler  1 h 54 min  English   \n",
       "2022-02-18  Downfall: The Case Against Boeing  1 h 29 min  English   \n",
       "2022-02-23              11M: Terror in Madrid  1 h 32 min  Spanish   \n",
       "2022-03-03  Surviving Paradise: A Family Tale  1 h 19 min  English   \n",
       "\n",
       "           Premiere Month  Premiere date  Runtime(mins)  \n",
       "Premiere                                                 \n",
       "2022-01-24        January              1             22  \n",
       "2022-02-02      February               2            114  \n",
       "2022-02-18      February               2             89  \n",
       "2022-02-23      February               2             92  \n",
       "2022-03-03          March              3             79  "
      ]
     },
     "execution_count": 29,
     "metadata": {},
     "output_type": "execute_result"
    }
   ],
   "source": [
    "df= data.copy()\n",
    "df.head()"
   ]
  },
  {
   "cell_type": "code",
   "execution_count": 30,
   "id": "e40da638",
   "metadata": {},
   "outputs": [
    {
     "data": {
      "text/html": [
       "<div>\n",
       "<style scoped>\n",
       "    .dataframe tbody tr th:only-of-type {\n",
       "        vertical-align: middle;\n",
       "    }\n",
       "\n",
       "    .dataframe tbody tr th {\n",
       "        vertical-align: top;\n",
       "    }\n",
       "\n",
       "    .dataframe thead th {\n",
       "        text-align: right;\n",
       "    }\n",
       "</style>\n",
       "<table border=\"1\" class=\"dataframe\">\n",
       "  <thead>\n",
       "    <tr style=\"text-align: right;\">\n",
       "      <th></th>\n",
       "      <th>Title</th>\n",
       "      <th>Runtime</th>\n",
       "      <th>Premiere Month</th>\n",
       "      <th>Premiere date</th>\n",
       "      <th>Runtime(mins)</th>\n",
       "    </tr>\n",
       "    <tr>\n",
       "      <th>Language</th>\n",
       "      <th></th>\n",
       "      <th></th>\n",
       "      <th></th>\n",
       "      <th></th>\n",
       "      <th></th>\n",
       "    </tr>\n",
       "  </thead>\n",
       "  <tbody>\n",
       "    <tr>\n",
       "      <th>English</th>\n",
       "      <td>43</td>\n",
       "      <td>43</td>\n",
       "      <td>43</td>\n",
       "      <td>43</td>\n",
       "      <td>43</td>\n",
       "    </tr>\n",
       "    <tr>\n",
       "      <th>Spanish</th>\n",
       "      <td>7</td>\n",
       "      <td>7</td>\n",
       "      <td>7</td>\n",
       "      <td>7</td>\n",
       "      <td>7</td>\n",
       "    </tr>\n",
       "    <tr>\n",
       "      <th>Japanese</th>\n",
       "      <td>2</td>\n",
       "      <td>2</td>\n",
       "      <td>2</td>\n",
       "      <td>2</td>\n",
       "      <td>2</td>\n",
       "    </tr>\n",
       "    <tr>\n",
       "      <th>French</th>\n",
       "      <td>1</td>\n",
       "      <td>1</td>\n",
       "      <td>1</td>\n",
       "      <td>1</td>\n",
       "      <td>1</td>\n",
       "    </tr>\n",
       "    <tr>\n",
       "      <th>German</th>\n",
       "      <td>1</td>\n",
       "      <td>1</td>\n",
       "      <td>1</td>\n",
       "      <td>1</td>\n",
       "      <td>1</td>\n",
       "    </tr>\n",
       "    <tr>\n",
       "      <th>Korean</th>\n",
       "      <td>1</td>\n",
       "      <td>1</td>\n",
       "      <td>1</td>\n",
       "      <td>1</td>\n",
       "      <td>1</td>\n",
       "    </tr>\n",
       "    <tr>\n",
       "      <th>Pashto</th>\n",
       "      <td>1</td>\n",
       "      <td>1</td>\n",
       "      <td>1</td>\n",
       "      <td>1</td>\n",
       "      <td>1</td>\n",
       "    </tr>\n",
       "    <tr>\n",
       "      <th>Portuguese</th>\n",
       "      <td>1</td>\n",
       "      <td>1</td>\n",
       "      <td>1</td>\n",
       "      <td>1</td>\n",
       "      <td>1</td>\n",
       "    </tr>\n",
       "    <tr>\n",
       "      <th>Tamil</th>\n",
       "      <td>1</td>\n",
       "      <td>1</td>\n",
       "      <td>1</td>\n",
       "      <td>1</td>\n",
       "      <td>1</td>\n",
       "    </tr>\n",
       "    <tr>\n",
       "      <th>Thai</th>\n",
       "      <td>1</td>\n",
       "      <td>1</td>\n",
       "      <td>1</td>\n",
       "      <td>1</td>\n",
       "      <td>1</td>\n",
       "    </tr>\n",
       "  </tbody>\n",
       "</table>\n",
       "</div>"
      ],
      "text/plain": [
       "            Title  Runtime  Premiere Month  Premiere date  Runtime(mins)\n",
       "Language                                                                \n",
       "English        43       43              43             43             43\n",
       "Spanish         7        7               7              7              7\n",
       "Japanese        2        2               2              2              2\n",
       "French          1        1               1              1              1\n",
       "German          1        1               1              1              1\n",
       "Korean          1        1               1              1              1\n",
       "Pashto          1        1               1              1              1\n",
       "Portuguese      1        1               1              1              1\n",
       "Tamil           1        1               1              1              1\n",
       "Thai            1        1               1              1              1"
      ]
     },
     "execution_count": 30,
     "metadata": {},
     "output_type": "execute_result"
    }
   ],
   "source": [
    "lang_grouped = df.groupby('Language').count().sort_values( by = 'Title', ascending = False)\n",
    "lang_grouped\n",
    "# Answer = English is the most common language used in the documentaries"
   ]
  },
  {
   "cell_type": "markdown",
   "id": "e0c47f57",
   "metadata": {},
   "source": [
    "### How many documentaries are there in total?"
   ]
  },
  {
   "cell_type": "code",
   "execution_count": 31,
   "id": "7ffdc031",
   "metadata": {},
   "outputs": [
    {
     "data": {
      "text/plain": [
       "59"
      ]
     },
     "execution_count": 31,
     "metadata": {},
     "output_type": "execute_result"
    }
   ],
   "source": [
    "#To check how many documentaries there is in total,\n",
    "#first: check for duplicates, if none,\n",
    "#second: calculate the length of the dataset\n",
    "\n",
    "data[data['Title'].duplicated()] # answer = NONE\n",
    "len(data)\n",
    "# Answer = There are 59 documentaries in total"
   ]
  },
  {
   "cell_type": "markdown",
   "id": "a5595119",
   "metadata": {},
   "source": [
    "## Temporal Analysis\n",
    "### How has the number of documentaries premiered changed over the years?\n"
   ]
  },
  {
   "cell_type": "code",
   "execution_count": 32,
   "id": "e4e0fb13",
   "metadata": {},
   "outputs": [
    {
     "data": {
      "text/html": [
       "<div>\n",
       "<style scoped>\n",
       "    .dataframe tbody tr th:only-of-type {\n",
       "        vertical-align: middle;\n",
       "    }\n",
       "\n",
       "    .dataframe tbody tr th {\n",
       "        vertical-align: top;\n",
       "    }\n",
       "\n",
       "    .dataframe thead th {\n",
       "        text-align: right;\n",
       "    }\n",
       "</style>\n",
       "<table border=\"1\" class=\"dataframe\">\n",
       "  <thead>\n",
       "    <tr style=\"text-align: right;\">\n",
       "      <th></th>\n",
       "      <th>Title</th>\n",
       "      <th>Runtime</th>\n",
       "      <th>Language</th>\n",
       "      <th>Premiere Month</th>\n",
       "      <th>Runtime(mins)</th>\n",
       "    </tr>\n",
       "    <tr>\n",
       "      <th>Premiere date</th>\n",
       "      <th></th>\n",
       "      <th></th>\n",
       "      <th></th>\n",
       "      <th></th>\n",
       "      <th></th>\n",
       "    </tr>\n",
       "  </thead>\n",
       "  <tbody>\n",
       "    <tr>\n",
       "      <th>1</th>\n",
       "      <td>1</td>\n",
       "      <td>1</td>\n",
       "      <td>1</td>\n",
       "      <td>1</td>\n",
       "      <td>1</td>\n",
       "    </tr>\n",
       "    <tr>\n",
       "      <th>2</th>\n",
       "      <td>3</td>\n",
       "      <td>3</td>\n",
       "      <td>3</td>\n",
       "      <td>3</td>\n",
       "      <td>3</td>\n",
       "    </tr>\n",
       "    <tr>\n",
       "      <th>3</th>\n",
       "      <td>3</td>\n",
       "      <td>3</td>\n",
       "      <td>3</td>\n",
       "      <td>3</td>\n",
       "      <td>3</td>\n",
       "    </tr>\n",
       "    <tr>\n",
       "      <th>4</th>\n",
       "      <td>3</td>\n",
       "      <td>3</td>\n",
       "      <td>3</td>\n",
       "      <td>3</td>\n",
       "      <td>3</td>\n",
       "    </tr>\n",
       "    <tr>\n",
       "      <th>5</th>\n",
       "      <td>4</td>\n",
       "      <td>4</td>\n",
       "      <td>4</td>\n",
       "      <td>4</td>\n",
       "      <td>4</td>\n",
       "    </tr>\n",
       "    <tr>\n",
       "      <th>6</th>\n",
       "      <td>5</td>\n",
       "      <td>5</td>\n",
       "      <td>5</td>\n",
       "      <td>5</td>\n",
       "      <td>5</td>\n",
       "    </tr>\n",
       "    <tr>\n",
       "      <th>7</th>\n",
       "      <td>3</td>\n",
       "      <td>3</td>\n",
       "      <td>3</td>\n",
       "      <td>3</td>\n",
       "      <td>3</td>\n",
       "    </tr>\n",
       "    <tr>\n",
       "      <th>8</th>\n",
       "      <td>7</td>\n",
       "      <td>7</td>\n",
       "      <td>7</td>\n",
       "      <td>7</td>\n",
       "      <td>7</td>\n",
       "    </tr>\n",
       "    <tr>\n",
       "      <th>9</th>\n",
       "      <td>7</td>\n",
       "      <td>7</td>\n",
       "      <td>7</td>\n",
       "      <td>7</td>\n",
       "      <td>7</td>\n",
       "    </tr>\n",
       "    <tr>\n",
       "      <th>10</th>\n",
       "      <td>6</td>\n",
       "      <td>6</td>\n",
       "      <td>6</td>\n",
       "      <td>6</td>\n",
       "      <td>6</td>\n",
       "    </tr>\n",
       "    <tr>\n",
       "      <th>11</th>\n",
       "      <td>11</td>\n",
       "      <td>11</td>\n",
       "      <td>11</td>\n",
       "      <td>11</td>\n",
       "      <td>11</td>\n",
       "    </tr>\n",
       "    <tr>\n",
       "      <th>12</th>\n",
       "      <td>6</td>\n",
       "      <td>6</td>\n",
       "      <td>6</td>\n",
       "      <td>6</td>\n",
       "      <td>6</td>\n",
       "    </tr>\n",
       "  </tbody>\n",
       "</table>\n",
       "</div>"
      ],
      "text/plain": [
       "               Title  Runtime  Language  Premiere Month  Runtime(mins)\n",
       "Premiere date                                                         \n",
       "1                  1        1         1               1              1\n",
       "2                  3        3         3               3              3\n",
       "3                  3        3         3               3              3\n",
       "4                  3        3         3               3              3\n",
       "5                  4        4         4               4              4\n",
       "6                  5        5         5               5              5\n",
       "7                  3        3         3               3              3\n",
       "8                  7        7         7               7              7\n",
       "9                  7        7         7               7              7\n",
       "10                 6        6         6               6              6\n",
       "11                11       11        11              11             11\n",
       "12                 6        6         6               6              6"
      ]
     },
     "execution_count": 32,
     "metadata": {},
     "output_type": "execute_result"
    }
   ],
   "source": [
    "#This requires a graphical representation\n",
    "date_grouped = data.groupby('Premiere date').count()\n",
    "date_grouped"
   ]
  },
  {
   "cell_type": "code",
   "execution_count": null,
   "id": "caa4d061",
   "metadata": {},
   "outputs": [],
   "source": []
  },
  {
   "cell_type": "code",
   "execution_count": 33,
   "id": "f55888cf",
   "metadata": {},
   "outputs": [
    {
     "data": {
      "image/png": "[encoded data removed]",
      "text/plain": [
       "<Figure size 2000x870 with 1 Axes>"
      ]
     },
     "metadata": {},
     "output_type": "display_data"
    }
   ],
   "source": [
    "# plt.bar(date_grouped,np.arange(0, len(data['Title'])))\n",
    "plt.figure(figsize=(20,8.7))\n",
    "date_grouped['Title'].plot(kind = 'bar', title = 'Number of Documentaries Premiered by Month', ylabel= 'Count of Documentaries')\n",
    "date_grouped['Title'].plot(kind = 'line',color = 'orange')\n",
    "plt.axis([-1,12,0,15])\n",
    "plt.show()\n",
    "\n",
    "#Answer = "
   ]
  },
  {
   "cell_type": "code",
   "execution_count": null,
   "id": "6ff0746c",
   "metadata": {},
   "outputs": [],
   "source": []
  },
  {
   "cell_type": "code",
   "execution_count": null,
   "id": "594b1ba1",
   "metadata": {},
   "outputs": [],
   "source": []
  }
 ],
 "metadata": {
  "kernelspec": {
   "display_name": "Python 3 (ipykernel)",
   "language": "python",
   "name": "python3"
  },
  "language_info": {
   "codemirror_mode": {
    "name": "ipython",
    "version": 3
   },
   "file_extension": ".py",
   "mimetype": "text/x-python",
   "name": "python",
   "nbconvert_exporter": "python",
   "pygments_lexer": "ipython3",
   "version": "3.11.4"
  }
 },
 "nbformat": 4,
 "nbformat_minor": 5
}
